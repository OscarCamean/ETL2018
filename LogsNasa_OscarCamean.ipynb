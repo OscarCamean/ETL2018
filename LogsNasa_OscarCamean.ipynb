{
 "cells": [
  {
   "cell_type": "markdown",
   "metadata": {},
   "source": [
    "# Ejercicio Dataset logs Nasa"
   ]
  },
  {
   "cell_type": "markdown",
   "metadata": {},
   "source": [
    "## Alumno: Óscar Camean Eddine"
   ]
  },
  {
   "cell_type": "code",
   "execution_count": 4,
   "metadata": {},
   "outputs": [],
   "source": [
    "from pyspark import SparkContext\n",
    "import urllib.request\n",
    "sc = SparkContext()"
   ]
  },
  {
   "cell_type": "code",
   "execution_count": 5,
   "metadata": {},
   "outputs": [],
   "source": [
    "import urllib\n",
    "import urllib.request\n",
    "f = urllib.request.urlretrieve(\"https://www.dropbox.com/s/73wr8xb5s6fdj7g/apache.access.log.PROJECT?dl=1\", \"apache.access.log.PROJECT\")"
   ]
  },
  {
   "cell_type": "code",
   "execution_count": 6,
   "metadata": {},
   "outputs": [],
   "source": [
    "datos = \"./apache.access.log.PROJECT\"\n",
    "datos_raw = sc.textFile(datos)"
   ]
  },
  {
   "cell_type": "code",
   "execution_count": 10,
   "metadata": {},
   "outputs": [
    {
     "name": "stdout",
     "output_type": "stream",
     "text": [
      "conteo:\n",
      "\n",
      " 1043177 \n",
      "\n",
      "5 registros:\n",
      "\n",
      " ['in24.inetnebr.com - - [01/Aug/1995:00:00:01 -0400] \"GET /shuttle/missions/sts-68/news/sts-68-mcc-05.txt HTTP/1.0\" 200 1839', 'uplherc.upl.com - - [01/Aug/1995:00:00:07 -0400] \"GET / HTTP/1.0\" 304 0', 'uplherc.upl.com - - [01/Aug/1995:00:00:08 -0400] \"GET /images/ksclogo-medium.gif HTTP/1.0\" 304 0', 'uplherc.upl.com - - [01/Aug/1995:00:00:08 -0400] \"GET /images/MOSAIC-logosmall.gif HTTP/1.0\" 304 0', 'uplherc.upl.com - - [01/Aug/1995:00:00:08 -0400] \"GET /images/USA-logosmall.gif HTTP/1.0\" 304 0']\n"
     ]
    }
   ],
   "source": [
    "print('conteo:\\n\\n',datos_raw.count(),'\\n\\n5 registros:\\n\\n',datos_raw.take(5))"
   ]
  },
  {
   "cell_type": "markdown",
   "metadata": {},
   "source": [
    "## Preparamos los datos"
   ]
  },
  {
   "cell_type": "code",
   "execution_count": 11,
   "metadata": {},
   "outputs": [],
   "source": [
    "# En esta ocasión, se aplica una función Lambda para reemplazar el guión por un 0\n",
    "# y luego separar los datos por el espacio enblanco.\n",
    "\n",
    "datos_tratados = datos_raw.map(lambda x: x.replace(\" -\", ' 0')).map(lambda x: x.split(\" \"))"
   ]
  },
  {
   "cell_type": "code",
   "execution_count": 14,
   "metadata": {},
   "outputs": [
    {
     "name": "stdout",
     "output_type": "stream",
     "text": [
      "['in24.inetnebr.com']\n",
      "['0']\n",
      "['0']\n",
      "['[01/Aug/1995:00:00:01']\n",
      "['00400]']\n",
      "['\"GET']\n",
      "['/shuttle/missions/sts-68/news/sts-68-mcc-05.txt']\n",
      "['HTTP/1.0\"']\n",
      "['200']\n",
      "['1839']\n"
     ]
    }
   ],
   "source": [
    "#Vamos a recorrer los datos imprimiendo cada columna para ver si está todo correcto\n",
    "for i in range(0,10):\n",
    "    datos_prueba = datos_tratados.map(lambda x: x[i])\n",
    "    print(datos_prueba.take(1))\n",
    "\n",
    "#0 es la url\n",
    "#1 no es nada\n",
    "#2 no es nada\n",
    "#3 es la fecha - Habria que parsear con []\n",
    "#4 ni idea, pero creo que nada\n",
    "#5 protocolo de respuesta: GET/POST\n",
    "#6 url de archivo accedido\n",
    "#7 HTTP version\n",
    "#8 HTTP status - Access through -2\n",
    "#9 Size - Access through -1  "
   ]
  },
  {
   "cell_type": "markdown",
   "metadata": {},
   "source": [
    "Los datos siguen la siguiente estructura:\n",
    "\n",
    "* posición 0: Url sitio web\n",
    "* posición 1: -\n",
    "* posición 2: -\n",
    "* posición 3: Fecha\n",
    "* posición 4:  -\n",
    "* posición 5: protocolo\n",
    "* posición 6: Url archivo.txt\n",
    "* posición 7: versión HTTP\n",
    "* posición 8: Status HTTP\n",
    "* posición 9: Size - Acces through\n",
    "\n",
    "una vez realizado el tratamiento de los datos, se continua con la realización de los ejercicios."
   ]
  },
  {
   "cell_type": "markdown",
   "metadata": {},
   "source": [
    "--------"
   ]
  },
  {
   "cell_type": "markdown",
   "metadata": {},
   "source": [
    "## Ejercicio 1"
   ]
  },
  {
   "cell_type": "markdown",
   "metadata": {},
   "source": [
    "Mínimo, Máximo y Media del tamaño de las peticiones"
   ]
  },
  {
   "cell_type": "code",
   "execution_count": 18,
   "metadata": {},
   "outputs": [
    {
     "name": "stdout",
     "output_type": "stream",
     "text": [
      "Mínimo:\n",
      "\n",
      " 0 \n",
      "\n",
      "Máximo:\n",
      "\n",
      " 3421948 \n",
      "\n",
      "Media:\n",
      "\n",
      " 17531.55570243611\n"
     ]
    }
   ],
   "source": [
    "datos_ejercicio1 = datos_tratados.map(lambda x: int(x[-1]))\n",
    "print('Mínimo:\\n\\n',datos_ejercicio1.min(),'\\n\\nMáximo:\\n\\n',datos_ejercicio1.max(),'\\n\\nMedia:\\n\\n',datos_ejercicio1.mean())"
   ]
  },
  {
   "cell_type": "markdown",
   "metadata": {},
   "source": [
    "--------"
   ]
  },
  {
   "cell_type": "markdown",
   "metadata": {},
   "source": [
    "## Ejercicio 2"
   ]
  },
  {
   "cell_type": "markdown",
   "metadata": {},
   "source": [
    "Número de peticiones por cada código de respuesta (response_code)"
   ]
  },
  {
   "cell_type": "code",
   "execution_count": 19,
   "metadata": {},
   "outputs": [],
   "source": [
    "from operator import add\n",
    "response_code = datos_tratados.map(lambda y: (int(y[-2]), 1))"
   ]
  },
  {
   "cell_type": "code",
   "execution_count": 20,
   "metadata": {},
   "outputs": [
    {
     "data": {
      "text/plain": [
       "[(200, 940847),\n",
       " (302, 16244),\n",
       " (304, 79824),\n",
       " (403, 58),\n",
       " (404, 6185),\n",
       " (500, 2),\n",
       " (501, 17)]"
      ]
     },
     "execution_count": 20,
     "metadata": {},
     "output_type": "execute_result"
    }
   ],
   "source": [
    "response_code.reduceByKey(add).sortByKey().collect()"
   ]
  },
  {
   "cell_type": "markdown",
   "metadata": {},
   "source": [
    "--------"
   ]
  },
  {
   "cell_type": "markdown",
   "metadata": {},
   "source": [
    "## Ejercicio 3"
   ]
  },
  {
   "cell_type": "markdown",
   "metadata": {},
   "source": [
    "Mostrar 20 hosts que han sido visitados más de 10 veces"
   ]
  },
  {
   "cell_type": "code",
   "execution_count": 21,
   "metadata": {
    "scrolled": true
   },
   "outputs": [
    {
     "data": {
      "text/plain": [
       "[('***.novo.dk', 16),\n",
       " ('03-dynamic-c.wokingham.luna.net', 39),\n",
       " ('05-dynamic-c.wokingham.luna.net', 25),\n",
       " ('0875pr3e.pro.rpslmc.edu', 16),\n",
       " ('1.ts1.mnet.medstroms.se', 32),\n",
       " ('10.ts2.mnet.medstroms.se', 15),\n",
       " ('101.irri.cgiar.org', 17),\n",
       " ('1032015.ksc.nasa.gov', 90),\n",
       " ('10forward.ppp.america.com', 18),\n",
       " ('10md423.uni-duisburg.de', 39),\n",
       " ('118.32.med.umich.edu', 15),\n",
       " ('12.ts2.mnet.medstroms.se', 25),\n",
       " ('120.33.med.umich.edu', 14),\n",
       " ('128.100.180.37', 15),\n",
       " ('128.100.183.252', 13),\n",
       " ('128.100.183.253', 36),\n",
       " ('128.100.191.43', 31),\n",
       " ('128.100.197.90', 16),\n",
       " ('128.100.8.177', 40),\n",
       " ('128.101.13.25', 15)]"
      ]
     },
     "execution_count": 21,
     "metadata": {},
     "output_type": "execute_result"
    }
   ],
   "source": [
    "hosts = datos_tratados.map(lambda y: (y[0], 1))\n",
    "\n",
    "visitados = hosts.reduceByKey(add).sortByKey().filter(lambda x: x[1] > 10).take(20)\n",
    "\n",
    "#tupla(host, count)\n",
    "visitados"
   ]
  },
  {
   "cell_type": "markdown",
   "metadata": {},
   "source": [
    "--------"
   ]
  },
  {
   "cell_type": "markdown",
   "metadata": {},
   "source": [
    "## Ejercicio 4"
   ]
  },
  {
   "cell_type": "markdown",
   "metadata": {},
   "source": [
    "Mostrar los 10 endpoints más visitados"
   ]
  },
  {
   "cell_type": "code",
   "execution_count": 24,
   "metadata": {},
   "outputs": [
    {
     "data": {
      "text/plain": [
       "[('/images/NASA-logosmall.gif', 59666),\n",
       " ('/images/KSC-logosmall.gif', 50420),\n",
       " ('/images/MOSAIC-logosmall.gif', 43831),\n",
       " ('/images/USA-logosmall.gif', 43604),\n",
       " ('/images/WORLD-logosmall.gif', 43217),\n",
       " ('/images/ksclogo-medium.gif', 41267),\n",
       " ('/ksc.html', 28536),\n",
       " ('/history/apollo/images/apollo-logo1.gif', 26766),\n",
       " ('/images/launch-logo.gif', 24742),\n",
       " ('/', 20175)]"
      ]
     },
     "execution_count": 24,
     "metadata": {},
     "output_type": "execute_result"
    }
   ],
   "source": [
    "endpoint = datos_tratados.map(lambda y:(y[6],1))\n",
    "endpoint_agregado = endpoint.reduceByKey(add).sortBy(lambda x: x[1],False).take(10)\n",
    "endpoint_agregado"
   ]
  },
  {
   "cell_type": "markdown",
   "metadata": {},
   "source": [
    "--------"
   ]
  },
  {
   "cell_type": "markdown",
   "metadata": {},
   "source": [
    "# Ejercicio 5"
   ]
  },
  {
   "cell_type": "markdown",
   "metadata": {},
   "source": [
    "Mostrar los 10 endpoints que no tengan código 200"
   ]
  },
  {
   "cell_type": "code",
   "execution_count": 25,
   "metadata": {},
   "outputs": [
    {
     "data": {
      "text/plain": [
       "[('/ksc.html', '501'),\n",
       " ('/ksc.html', '501'),\n",
       " ('/ksc.html', '501'),\n",
       " ('/ksc.html', '501'),\n",
       " ('/ksc.html', '501'),\n",
       " ('/images/getstats.gif', '501'),\n",
       " ('/ksc.html', '501'),\n",
       " ('/shuttle/missions/51-i/51-i-patch-small.gif', '501'),\n",
       " ('/shuttle/missions/sts-45/sts-45-patch-small.gif', '501'),\n",
       " ('/shuttle/missions/sts-6/sts-6-patch-small.gif', '501')]"
      ]
     },
     "execution_count": 25,
     "metadata": {},
     "output_type": "execute_result"
    }
   ],
   "source": [
    "endpoint1 = datos_tratados.map(lambda y: (y[6], y[-2]))\n",
    "endpoint1 = endpoint1.sortBy(lambda x: x[1], False).filter(lambda x: x[1] != 200).take(10)\n",
    "endpoint1"
   ]
  },
  {
   "cell_type": "markdown",
   "metadata": {},
   "source": [
    "--------"
   ]
  },
  {
   "cell_type": "markdown",
   "metadata": {},
   "source": [
    "## EJERCICIO 6"
   ]
  },
  {
   "cell_type": "markdown",
   "metadata": {},
   "source": [
    "Calcular el numero de hosts distintos"
   ]
  },
  {
   "cell_type": "code",
   "execution_count": 27,
   "metadata": {},
   "outputs": [
    {
     "data": {
      "text/plain": [
       "54507"
      ]
     },
     "execution_count": 27,
     "metadata": {},
     "output_type": "execute_result"
    }
   ],
   "source": [
    "hosts_distintos = datos_tratados.map(lambda y: y[0]).distinct().count()\n",
    "\n",
    "hosts_distintos"
   ]
  },
  {
   "cell_type": "markdown",
   "metadata": {},
   "source": [
    "--------"
   ]
  },
  {
   "cell_type": "markdown",
   "metadata": {},
   "source": [
    "# Ejercicio 7"
   ]
  },
  {
   "cell_type": "markdown",
   "metadata": {},
   "source": [
    "Calcular el numero de host únicos cada dia"
   ]
  },
  {
   "cell_type": "code",
   "execution_count": 28,
   "metadata": {},
   "outputs": [],
   "source": [
    "from pyspark.sql import Row, SQLContext\n",
    "from pyspark.sql.functions import *\n",
    "sqlContext = SQLContext(sc)"
   ]
  },
  {
   "cell_type": "code",
   "execution_count": 32,
   "metadata": {},
   "outputs": [],
   "source": [
    "# Estructuramos los datos y los guardamos en un objeto.\n",
    "row_data = datos_tratados.map(lambda p: Row(\n",
    "    host = p[0], \n",
    "    empty_first = int(p[1]),\n",
    "    empty_second = p[2],\n",
    "    date = p[3],\n",
    "    protocol = p[4],\n",
    "    endpoint = p[6],\n",
    "    version = p[7],\n",
    "    status_Code = int(p[-2]),\n",
    "    size = p[-1]\n",
    "    )\n",
    ")"
   ]
  },
  {
   "cell_type": "code",
   "execution_count": 31,
   "metadata": {},
   "outputs": [
    {
     "name": "stdout",
     "output_type": "stream",
     "text": [
      "+-----------+--------------+\n",
      "|Dia del mes|Host distintos|\n",
      "+-----------+--------------+\n",
      "|       null|         35859|\n",
      "|          1|          2096|\n",
      "|          3|           679|\n",
      "|          4|          1986|\n",
      "|          5|          1054|\n",
      "|          6|           921|\n",
      "|          7|          1935|\n",
      "|          8|          1867|\n",
      "|          9|          2019|\n",
      "|         10|          2087|\n",
      "|         11|          2089|\n",
      "|         12|          1142|\n",
      "|         13|           951|\n",
      "|         14|          2053|\n",
      "|         15|          1982|\n",
      "|         16|          1974|\n",
      "|         17|          2049|\n",
      "|         18|          1978|\n",
      "|         19|          1099|\n",
      "|         20|          1039|\n",
      "+-----------+--------------+\n",
      "only showing top 20 rows\n",
      "\n"
     ]
    }
   ],
   "source": [
    "# Con createDataFrame conferimos el tipo de Dataframe a los datos.\n",
    "\n",
    "sql_df = sqlContext.createDataFrame(row_data)\n",
    "\n",
    "# Formateo de la fecha.\n",
    "sql_df1 = sql_df.withColumn('date', regexp_replace('date', '\\[', ''))\n",
    "sql_df2 = sql_df1.withColumn('date', regexp_replace('date', 'Aug', '08'))\n",
    "sql_df3 = sql_df2.select(from_unixtime(unix_timestamp('date', 'dd/MM/yyyy:hh:mm:ss')).alias('date'), 'host')\n",
    "\n",
    "# Eliminación de NAs\n",
    "sql_df4 = sql_df3.na.fill(0)\n",
    "\n",
    "# Muestra los host distintos de cada día del mes de Agosto\n",
    "sql_df4.groupby(dayofmonth(\"date\").alias(\"Dia del mes\")).agg(countDistinct('host').alias('Host distintos')).sort('Dia del mes') .show()\n"
   ]
  },
  {
   "cell_type": "markdown",
   "metadata": {},
   "source": [
    "--------"
   ]
  },
  {
   "cell_type": "markdown",
   "metadata": {},
   "source": [
    "## Ejercicio 8 "
   ]
  },
  {
   "cell_type": "markdown",
   "metadata": {},
   "source": [
    "Calcular la media de peticiones diarias por host"
   ]
  },
  {
   "cell_type": "code",
   "execution_count": 35,
   "metadata": {},
   "outputs": [
    {
     "name": "stdout",
     "output_type": "stream",
     "text": [
      "+----------+-----------------------+\n",
      "|      Date|Peticiones_diarias_host|\n",
      "+----------+-----------------------+\n",
      "|      null|     16.834462756909005|\n",
      "|1995-08-01|     12.816793893129772|\n",
      "|1995-08-03|     11.770250368188513|\n",
      "|1995-08-04|     13.683786505538771|\n",
      "|1995-08-05|     11.970588235294118|\n",
      "|1995-08-06|     12.355048859934854|\n",
      "|1995-08-07|     13.405684754521964|\n",
      "|1995-08-08|     12.085698982324585|\n",
      "|1995-08-09|     13.193660227835561|\n",
      "|1995-08-10|     12.949209391471012|\n",
      "+----------+-----------------------+\n",
      "only showing top 10 rows\n",
      "\n"
     ]
    }
   ],
   "source": [
    "# Creamos la tabla a partir del ejercicio anterior, esta vez la columna date representará \n",
    "# el mes.\n",
    "Medias_diarias = sql_df4.withColumn(\"month\", month(col(\"date\"))).withColumn(\"DayOfmonth\", dayofmonth(col(\"date\")))\n",
    "Medias_diarias.createOrReplaceTempView('Medias_diarias')\n",
    "\n",
    "# Realizamos la consulta SQL\n",
    "sqlContext.sql(\"SELECT DATE(date) Date, COUNT(host)/COUNT(DISTINCT host) AS Peticiones_diarias_host FROM Medias_diarias GROUP BY  DATE(date) ORDER BY DATE(date) ASC\").show(n = 10)\n"
   ]
  },
  {
   "cell_type": "markdown",
   "metadata": {},
   "source": [
    "--------"
   ]
  },
  {
   "cell_type": "markdown",
   "metadata": {},
   "source": [
    "## Ejercicio 9"
   ]
  },
  {
   "cell_type": "markdown",
   "metadata": {},
   "source": [
    "Mostrar una lista de 40 endpoints distintos que generan un código de respuesta = 404"
   ]
  },
  {
   "cell_type": "code",
   "execution_count": 41,
   "metadata": {
    "scrolled": true
   },
   "outputs": [
    {
     "data": {
      "text/plain": [
       "[('/history/apollo/a-004/movies/', 404),\n",
       " ('/IUMA/lib/htu_button.gif', 404),\n",
       " ('/l', 404),\n",
       " ('/history/apollo/sa-9/news/', 404),\n",
       " ('/nws/public', 404),\n",
       " ('/shuttle/technology/images/sts-comm.jpg', 404),\n",
       " ('/APOLLO-13', 404),\n",
       " ('/shuttle/missions/sts-69/video/livevideo2.gif', 404),\n",
       " ('/shuttle/tecnology/stsreftoc.html', 404),\n",
       " ('/search-page.html', 404),\n",
       " ('/history/apollo/apollo-13/appollo-13.html', 404),\n",
       " ('/pub/wiinvn/win3/ww16_99_.zip', 404),\n",
       " ('/nasa/Cool.gif', 404),\n",
       " ('/magazine/p08aug/08pet10.gif', 404),\n",
       " ('/magazine/p08aug/08pet11.gif', 404),\n",
       " ('/magazine/p08aug/08pet13.gif', 404),\n",
       " ('/magazine/p08aug/08pet14.gif', 404),\n",
       " ('/magazine/p08aug/08pet15.gif', 404),\n",
       " ('/history/apollo/apollo-13/movie', 404),\n",
       " ('/procurement.htlm', 404),\n",
       " ('/shuttle/news/sci.space.news/462', 404),\n",
       " ('/ksc.heml', 404),\n",
       " ('/nba/', 404),\n",
       " ('/history/History.html', 404),\n",
       " ('/www.fedworld.gov/ntis/www.fedworld.gov/ntis/ntishome.html', 404),\n",
       " ('/shuttle/missions/missions.htmo', 404),\n",
       " ('/de/dm/dm-asd/', 404),\n",
       " ('/shuttle/sts-69/liftoff.html', 404),\n",
       " ('/mission/', 404),\n",
       " ('/procure.htm', 404),\n",
       " ('/shuttle/countdown/images/bforw.gif', 404),\n",
       " ('/shuttle/countdown/images/WXP.gif', 404),\n",
       " ('/shuttle/countdown/images/INDEX.gif', 404),\n",
       " ('/byline.gif', 404),\n",
       " ('/spell201.gif', 404),\n",
       " ('/Cool.html', 404),\n",
       " ('/pub.win3.winvn/', 404),\n",
       " ('/histroy/apollo/apollo-13/apollo-13.html', 404),\n",
       " ('/shuttle%2Ccountdown', 404),\n",
       " ('/SHUTTLE%2CCOUNTDOWN.COM/', 404)]"
      ]
     },
     "execution_count": 41,
     "metadata": {},
     "output_type": "execute_result"
    }
   ],
   "source": [
    "endpointerror404 = datos_tratados.map(lambda y: (y[6], int(y[-2])))\n",
    "endpointerror404 = endpointerror404.reduceByKey(add).sortBy(lambda x: x[1], False).filter(lambda x: x[1] == 404).distinct().take(40)\n",
    "\n",
    "#tupla(endpoint, statusCode)\n",
    "\n",
    "#El problema es que estamos usando la muestra small y probablemente no haya mas de 40\n",
    "endpointerror404"
   ]
  },
  {
   "cell_type": "markdown",
   "metadata": {},
   "source": [
    "--------"
   ]
  },
  {
   "cell_type": "markdown",
   "metadata": {},
   "source": [
    "## Ejercicio 10"
   ]
  },
  {
   "cell_type": "markdown",
   "metadata": {},
   "source": [
    "Mostrar el top 25 de endpoints que más códigos de respuesta 404 generan"
   ]
  },
  {
   "cell_type": "code",
   "execution_count": 45,
   "metadata": {},
   "outputs": [
    {
     "data": {
      "text/plain": [
       "[('/pub/winvn/readme.txt', 633),\n",
       " ('/pub/winvn/release.txt', 494),\n",
       " ('/shuttle/missions/STS-69/mission-STS-69.html', 430),\n",
       " ('/images/nasa-logo.gif', 319),\n",
       " ('/elv/DELTA/uncons.htm', 178),\n",
       " ('/shuttle/missions/sts-68/ksc-upclose.gif', 154),\n",
       " ('/history/apollo/sa-1/sa-1-patch-small.gif', 146),\n",
       " ('/images/crawlerway-logo.gif', 120),\n",
       " ('/://spacelink.msfc.nasa.gov', 117),\n",
       " ('/history/apollo/pad-abort-test-1/pad-abort-test-1-patch-small.gif', 100),\n",
       " ('/history/apollo/a-001/a-001-patch-small.gif', 97),\n",
       " ('/images/Nasa-logo.gif', 85),\n",
       " ('/shuttle/resources/orbiters/atlantis.gif', 63),\n",
       " ('/history/apollo/images/little-joe.jpg', 62),\n",
       " ('/images/lf-logo.gif', 59),\n",
       " ('/shuttle/resources/orbiters/discovery.gif', 56),\n",
       " ('/shuttle/resources/orbiters/challenger.gif', 54),\n",
       " ('/robots.txt', 53),\n",
       " ('/elv/new01.gif>', 43),\n",
       " ('/history/apollo/pad-abort-test-2/pad-abort-test-2-patch-small.gif', 38),\n",
       " ('/pub/', 36),\n",
       " ('/pub', 36),\n",
       " ('/history/apollo/sa-2/sa-2-patch-small.gif', 35),\n",
       " ('/history/apollo/sa-5/sa-5-patch-small.gif', 32),\n",
       " ('/software/winvn/winvn.html.', 31)]"
      ]
     },
     "execution_count": 45,
     "metadata": {},
     "output_type": "execute_result"
    }
   ],
   "source": [
    "endpoint404 = datos_tratados.filter(lambda x: int(x[-2]) == 404)\n",
    "endpoint404 = endpoint404.map(lambda x: (x[6], 1))\n",
    "endpoint404= endpoint404.reduceByKey(add).sortBy(lambda x: x[1], False).take(25)\n",
    "endpoint404"
   ]
  },
  {
   "cell_type": "markdown",
   "metadata": {},
   "source": [
    "--------"
   ]
  },
  {
   "cell_type": "markdown",
   "metadata": {},
   "source": [
    "## EJERCICIO 11 "
   ]
  },
  {
   "cell_type": "markdown",
   "metadata": {},
   "source": [
    "Top 5 días que generaron código de respuesta 404"
   ]
  },
  {
   "cell_type": "code",
   "execution_count": 49,
   "metadata": {},
   "outputs": [
    {
     "name": "stdout",
     "output_type": "stream",
     "text": [
      "+----------------+-----+\n",
      "|dayofmonth(date)|count|\n",
      "+----------------+-----+\n",
      "|            null| 3494|\n",
      "|               7|  331|\n",
      "|               6|  239|\n",
      "|               1|  219|\n",
      "|              14|  142|\n",
      "+----------------+-----+\n",
      "only showing top 5 rows\n",
      "\n"
     ]
    }
   ],
   "source": [
    "dias404 = sql_df2.select(from_unixtime(unix_timestamp('date', 'dd/MM/yyyy:hh:mm:ss')).alias('date'), 'status_Code')\n",
    "\n",
    "dias404.filter(dias404['status_Code'] == 404).groupBy(dayofmonth('date')).count().sort(col(\"count\").desc()).show(n = 5)\n",
    "\n"
   ]
  },
  {
   "cell_type": "markdown",
   "metadata": {},
   "source": [
    "-----------"
   ]
  }
 ],
 "metadata": {
  "kernelspec": {
   "display_name": "Python 3",
   "language": "python",
   "name": "python3"
  },
  "language_info": {
   "codemirror_mode": {
    "name": "ipython",
    "version": 3
   },
   "file_extension": ".py",
   "mimetype": "text/x-python",
   "name": "python",
   "nbconvert_exporter": "python",
   "pygments_lexer": "ipython3",
   "version": "3.6.7"
  }
 },
 "nbformat": 4,
 "nbformat_minor": 2
}
