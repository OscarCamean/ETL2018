{
 "cells": [
  {
   "cell_type": "markdown",
   "metadata": {},
   "source": [
    "# Práctica Futbol"
   ]
  },
  {
   "cell_type": "markdown",
   "metadata": {},
   "source": [
    "## Alumno: Óscar Camean Eddine"
   ]
  },
  {
   "cell_type": "markdown",
   "metadata": {},
   "source": [
    "Se podrá utilizar toda la información que se encuentra en el campus. \n",
    "\n",
    "El fichero de datos sobre el que se trabajará es el de DataSetPartidos.txt.\n",
    "\n",
    "A cada una de las preguntas hay que responder explicando brevemente que se pretende hacer antes de lanzar el código.\n",
    "\n",
    "Al documento lo llamareís con vuestro nombre y apellido. Debeís enviarlo a mi correo de CUNEF antes del final del examen o en su defecto por email.\n",
    "\n",
    "El lenguaje para trabajar con Spark podrá ser python o R indistintamente."
   ]
  },
  {
   "cell_type": "markdown",
   "metadata": {},
   "source": [
    "-------"
   ]
  },
  {
   "cell_type": "markdown",
   "metadata": {},
   "source": [
    "# Primera tarea: \n",
    "## ¿ En que se diferencian las acciones de las transformaciones en SPARK? ¿Podrías ponerme un par de ejemplo de cada una de ellas y describir que hacen, para que sirve?"
   ]
  },
  {
   "cell_type": "markdown",
   "metadata": {
    "collapsed": true
   },
   "source": [
    "Las transformaciones definen el cambio de flujo de la información generando un nuevo RDD, son instrucciones a implantar en los datos.\n",
    "\n",
    "Cuentan con un corportamiento lazy y se ejecutan cuando se realiza una acción. las tranformaciones principales son:\n",
    "* map\n",
    "* Filter\n",
    "* FilterFlat\n",
    "\n",
    "Acción nos permite evaluar el RDD y devolver un resultado, algunas acciones son:\n",
    "\n",
    "* count\n",
    "* collect\n",
    "* max\n",
    "* min\n",
    "...\n"
   ]
  },
  {
   "cell_type": "markdown",
   "metadata": {},
   "source": [
    "-------"
   ]
  },
  {
   "cell_type": "markdown",
   "metadata": {},
   "source": [
    "# Segunda tarea: \n",
    "## Inicializar spark context y cargar los datos desde el fichero."
   ]
  },
  {
   "cell_type": "code",
   "execution_count": 1,
   "metadata": {},
   "outputs": [],
   "source": [
    "from pyspark import SparkContext\n",
    "sc = SparkContext()"
   ]
  },
  {
   "cell_type": "code",
   "execution_count": 2,
   "metadata": {},
   "outputs": [],
   "source": [
    "data = './download.txt'\n",
    "raw_data = sc.textFile(data)"
   ]
  },
  {
   "cell_type": "code",
   "execution_count": 3,
   "metadata": {
    "scrolled": true
   },
   "outputs": [
    {
     "data": {
      "text/plain": [
       "['1::1970-71::1::Athletic Club::Barcelona::1::1::12/09/1970::21942000.0',\n",
       " '2::1970-71::1::Las Palmas::Atletico de Madrid::1::1::12/09/1970::21942000.0',\n",
       " '3::1970-71::1::Real Madrid::Valencia::2::0::12/09/1970::21942000.0',\n",
       " '4::1970-71::1::Celta de Vigo::Sporting de Gijon::2::0::13/09/1970::22028400.0']"
      ]
     },
     "execution_count": 3,
     "metadata": {},
     "output_type": "execute_result"
    }
   ],
   "source": [
    "raw_data.take(4)"
   ]
  },
  {
   "cell_type": "code",
   "execution_count": 4,
   "metadata": {},
   "outputs": [
    {
     "data": {
      "text/plain": [
       "[['1',\n",
       "  '1970-71',\n",
       "  '1',\n",
       "  'Athletic Club',\n",
       "  'Barcelona',\n",
       "  '1',\n",
       "  '1',\n",
       "  '12/09/1970',\n",
       "  '21942000.0']]"
      ]
     },
     "execution_count": 4,
     "metadata": {},
     "output_type": "execute_result"
    }
   ],
   "source": [
    "data_tratados = raw_data.map(lambda line: line.split('::'))\n",
    "data_tratados.take(1)"
   ]
  },
  {
   "cell_type": "markdown",
   "metadata": {},
   "source": [
    "-------"
   ]
  },
  {
   "cell_type": "markdown",
   "metadata": {},
   "source": [
    "# Tercera tarea: \n",
    "\n",
    "## Calcular el número total de goles que ha marcado el Real Sporting de Gijón."
   ]
  },
  {
   "cell_type": "code",
   "execution_count": 5,
   "metadata": {},
   "outputs": [
    {
     "name": "stdout",
     "output_type": "stream",
     "text": [
      "\n",
      "El número total de goles marcados por el Real Sporting de Gijón es: \n",
      "\n",
      " 2042\n"
     ]
    }
   ],
   "source": [
    "local = data_tratados.filter(lambda line: line[3] == 'Sporting de Gijon') \n",
    "#Partidos locales del Sporting\n",
    "\n",
    "visitante = data_tratados.filter(lambda line: line[4] == 'Sporting de Gijon') \n",
    "#Partidos visitantes del Sporting\n",
    "\n",
    "gol_local = local.map(lambda line: int(line[5])).sum() \n",
    "gol_visitante = visitante.map(lambda line: int(line[6])).sum()\n",
    "\n",
    "\n",
    "goles_totales = gol_local + gol_visitante\n",
    "print('\\nEl número total de goles marcados por el Real Sporting de Gijón es: \\n\\n',goles_totales)"
   ]
  },
  {
   "cell_type": "markdown",
   "metadata": {},
   "source": [
    "-------"
   ]
  },
  {
   "cell_type": "markdown",
   "metadata": {},
   "source": [
    "# Cuarta pregunta: \n",
    "## ¿ En que temporada se marcaron más goles?"
   ]
  },
  {
   "cell_type": "code",
   "execution_count": 6,
   "metadata": {},
   "outputs": [
    {
     "data": {
      "text/plain": [
       "[('2012-13', 2294)]"
      ]
     },
     "execution_count": 6,
     "metadata": {},
     "output_type": "execute_result"
    }
   ],
   "source": [
    "data_goles = (data_tratados.map(lambda line: (line[1], int(line[5]) + int(line[6])))\n",
    "              .reduceByKey(lambda a, b: a + b)\n",
    "              .takeOrdered(1,lambda x: -x[1]))\n",
    "data_goles"
   ]
  },
  {
   "cell_type": "markdown",
   "metadata": {},
   "source": [
    "-----"
   ]
  },
  {
   "cell_type": "markdown",
   "metadata": {},
   "source": [
    "# Quinta pregunta: \n",
    "## ¿Cúal es el equipo que tiene el record de más goles como local?"
   ]
  },
  {
   "cell_type": "code",
   "execution_count": 7,
   "metadata": {},
   "outputs": [
    {
     "data": {
      "text/plain": [
       "[('Real Madrid', 2054),\n",
       " ('Barcelona', 2043),\n",
       " ('Atletico de Madrid', 1566),\n",
       " ('Valencia', 1522),\n",
       " ('Athletic Club', 1424),\n",
       " ('Real Zaragoza', 1395),\n",
       " ('Sevilla', 1384),\n",
       " ('Real Sociedad', 1364),\n",
       " ('Deportivo', 1343),\n",
       " ('Betis', 1328)]"
      ]
     },
     "execution_count": 7,
     "metadata": {},
     "output_type": "execute_result"
    }
   ],
   "source": [
    "# Se aplica un map sobre las líneas 3 y la 5 (convertida a entero), \n",
    "# se aplica un reduced by key que suma todos los goles. \n",
    "\n",
    "goles_max_local = (data_tratados.map(lambda line: (line[3], int(line[5]))) \n",
    "            .reduceByKey(lambda a, b: a + b) \n",
    "            .takeOrdered(10, lambda x: -x[1])) \n",
    "\n",
    "goles_max_local # El record lo tienen el Real Madrid con 2054 goles"
   ]
  },
  {
   "cell_type": "markdown",
   "metadata": {},
   "source": [
    "## ¿ y cómo visitante?"
   ]
  },
  {
   "cell_type": "code",
   "execution_count": 8,
   "metadata": {},
   "outputs": [
    {
     "data": {
      "text/plain": [
       "[('Barcelona', 1296),\n",
       " ('Real Madrid', 1296),\n",
       " ('Atletico de Madrid', 988),\n",
       " ('Valencia', 919),\n",
       " ('Betis', 853),\n",
       " ('Sevilla', 839),\n",
       " ('Real Sociedad', 818),\n",
       " ('Real Zaragoza', 807),\n",
       " ('Athletic Club', 802),\n",
       " ('Celta de Vigo', 775)]"
      ]
     },
     "execution_count": 8,
     "metadata": {},
     "output_type": "execute_result"
    }
   ],
   "source": [
    "goles_max_visitante = (data_tratados.map(lambda line: (line[4], int(line[6])))\n",
    "            .reduceByKey(lambda a, b: a + b) \n",
    "            .takeOrdered(10, lambda x: -x[1]))\n",
    "\n",
    "goles_max_visitante # como visitante también tiene el record el Real Madrid con 1296"
   ]
  },
  {
   "cell_type": "markdown",
   "metadata": {},
   "source": [
    "------\n"
   ]
  },
  {
   "cell_type": "markdown",
   "metadata": {},
   "source": [
    "# Sexta pregunta: \n",
    "## ¿Cúales son las 3 décadas en las que más goles se metieron?"
   ]
  },
  {
   "cell_type": "code",
   "execution_count": 9,
   "metadata": {},
   "outputs": [
    {
     "data": {
      "text/plain": [
       "[('0', 20526), ('9', 19321), ('8', 17336)]"
      ]
     },
     "execution_count": 9,
     "metadata": {},
     "output_type": "execute_result"
    }
   ],
   "source": [
    "# Aplico un map sobre el penultimo string de la linea 7 (década),\n",
    "# y como valor defino la suma de la linea 5 y 6 (convertidas a enteros), \n",
    "# que señala los goles locales y visitantes para, finalmente, ordenar de mayor a menor\n",
    "\n",
    "decadas_goles = (data_tratados.map(lambda line: (line[7][-2], int(line[5]) + int(line[6])))\n",
    "                 .reduceByKey(lambda a, b: a + b).\n",
    "                 takeOrdered(3,lambda x: -x[1]))\n",
    "\n",
    "decadas_goles #La década de los 2000, los 90 y los 80."
   ]
  },
  {
   "cell_type": "markdown",
   "metadata": {},
   "source": [
    "----------"
   ]
  },
  {
   "cell_type": "markdown",
   "metadata": {},
   "source": [
    "#  Séptima pregunta:\n",
    "## ¿Cúal es la media de victorias de los equipos que han estado menos de 10 temporadas en primera división?"
   ]
  },
  {
   "cell_type": "code",
   "execution_count": null,
   "metadata": {},
   "outputs": [],
   "source": []
  },
  {
   "cell_type": "markdown",
   "metadata": {},
   "source": [
    "-----------"
   ]
  },
  {
   "cell_type": "markdown",
   "metadata": {},
   "source": [
    "#  Octava pregunta: \n",
    "## ¿Cúal es la media de goles como visitante por partido?"
   ]
  },
  {
   "cell_type": "code",
   "execution_count": 10,
   "metadata": {},
   "outputs": [
    {
     "data": {
      "text/plain": [
       "0.9280085752361036"
      ]
     },
     "execution_count": 10,
     "metadata": {},
     "output_type": "execute_result"
    }
   ],
   "source": [
    "# Se aplica un map sobre la línea 6 convertida a entero y se aplica .mean()\n",
    "\n",
    "media_goles_visitante = (data_tratados.map(lambda line: int(line[6])).mean())\n",
    "media_goles_visitante #0.928."
   ]
  },
  {
   "cell_type": "markdown",
   "metadata": {},
   "source": [
    "-------------"
   ]
  }
 ],
 "metadata": {
  "kernelspec": {
   "display_name": "Python 3",
   "language": "python",
   "name": "python3"
  },
  "language_info": {
   "codemirror_mode": {
    "name": "ipython",
    "version": 3
   },
   "file_extension": ".py",
   "mimetype": "text/x-python",
   "name": "python",
   "nbconvert_exporter": "python",
   "pygments_lexer": "ipython3",
   "version": "3.6.7"
  }
 },
 "nbformat": 4,
 "nbformat_minor": 2
}
